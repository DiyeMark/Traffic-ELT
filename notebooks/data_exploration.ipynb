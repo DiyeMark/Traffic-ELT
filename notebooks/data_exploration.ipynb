{
 "cells": [
  {
   "cell_type": "code",
   "execution_count": 2,
   "outputs": [],
   "source": [
    "import pandas as pd"
   ],
   "metadata": {
    "collapsed": false,
    "pycharm": {
     "name": "#%%\n"
    }
   }
  },
  {
   "cell_type": "code",
   "execution_count": 3,
   "outputs": [
    {
     "name": "stderr",
     "output_type": "stream",
     "text": [
      "/var/folders/68/y9l5p2ms1dz6vvvjggvffpbr0000gn/T/ipykernel_82039/155886088.py:1: ParserWarning: Falling back to the 'python' engine because the 'c' engine does not support regex separators (separators > 1 char and different from '\\s+' are interpreted as regex); you can avoid this warning by specifying engine='python'.\n",
      "  data = pd.read_csv('../data/20181024_d1_0830_0900.csv', sep='[,;:]' ,index_col=False)\n",
      "/var/folders/68/y9l5p2ms1dz6vvvjggvffpbr0000gn/T/ipykernel_82039/155886088.py:1: ParserWarning: Length of header or names does not match length of data. This leads to a loss of data with index_col=False.\n",
      "  data = pd.read_csv('../data/20181024_d1_0830_0900.csv', sep='[,;:]' ,index_col=False)\n"
     ]
    }
   ],
   "source": [
    "data = pd.read_csv('../data/20181024_d1_0830_0900.csv', sep='[,;:]' ,index_col=False)"
   ],
   "metadata": {
    "collapsed": false,
    "pycharm": {
     "name": "#%%\n"
    }
   }
  },
  {
   "cell_type": "code",
   "execution_count": 4,
   "outputs": [
    {
     "data": {
      "text/plain": "   track_id         type   traveled_d   avg_speed        lat        lon  \\\n0         1          Car        48.85    9.770344  37.977391  23.737688   \n1         2   Motorcycle        98.09   19.839417  37.977642  23.737400   \n2         3   Motorcycle        63.80   18.228752  37.977997  23.737264   \n3         4   Motorcycle       145.72   26.229014  37.978135  23.737072   \n4         5   Motorcycle       138.01   24.841425  37.978134  23.737103   \n\n     speed   lon_acc   lat_acc   time  \n0   4.9178    0.0518   -0.0299    0.0  \n1  16.9759   -0.0361   -0.0228    0.0  \n2  20.1906   -0.0795   -0.3395    0.0  \n3   2.7555   -0.0302    0.0948    0.0  \n4   0.0000    0.0000    0.0000    0.0  ",
      "text/html": "<div>\n<style scoped>\n    .dataframe tbody tr th:only-of-type {\n        vertical-align: middle;\n    }\n\n    .dataframe tbody tr th {\n        vertical-align: top;\n    }\n\n    .dataframe thead th {\n        text-align: right;\n    }\n</style>\n<table border=\"1\" class=\"dataframe\">\n  <thead>\n    <tr style=\"text-align: right;\">\n      <th></th>\n      <th>track_id</th>\n      <th>type</th>\n      <th>traveled_d</th>\n      <th>avg_speed</th>\n      <th>lat</th>\n      <th>lon</th>\n      <th>speed</th>\n      <th>lon_acc</th>\n      <th>lat_acc</th>\n      <th>time</th>\n    </tr>\n  </thead>\n  <tbody>\n    <tr>\n      <th>0</th>\n      <td>1</td>\n      <td>Car</td>\n      <td>48.85</td>\n      <td>9.770344</td>\n      <td>37.977391</td>\n      <td>23.737688</td>\n      <td>4.9178</td>\n      <td>0.0518</td>\n      <td>-0.0299</td>\n      <td>0.0</td>\n    </tr>\n    <tr>\n      <th>1</th>\n      <td>2</td>\n      <td>Motorcycle</td>\n      <td>98.09</td>\n      <td>19.839417</td>\n      <td>37.977642</td>\n      <td>23.737400</td>\n      <td>16.9759</td>\n      <td>-0.0361</td>\n      <td>-0.0228</td>\n      <td>0.0</td>\n    </tr>\n    <tr>\n      <th>2</th>\n      <td>3</td>\n      <td>Motorcycle</td>\n      <td>63.80</td>\n      <td>18.228752</td>\n      <td>37.977997</td>\n      <td>23.737264</td>\n      <td>20.1906</td>\n      <td>-0.0795</td>\n      <td>-0.3395</td>\n      <td>0.0</td>\n    </tr>\n    <tr>\n      <th>3</th>\n      <td>4</td>\n      <td>Motorcycle</td>\n      <td>145.72</td>\n      <td>26.229014</td>\n      <td>37.978135</td>\n      <td>23.737072</td>\n      <td>2.7555</td>\n      <td>-0.0302</td>\n      <td>0.0948</td>\n      <td>0.0</td>\n    </tr>\n    <tr>\n      <th>4</th>\n      <td>5</td>\n      <td>Motorcycle</td>\n      <td>138.01</td>\n      <td>24.841425</td>\n      <td>37.978134</td>\n      <td>23.737103</td>\n      <td>0.0000</td>\n      <td>0.0000</td>\n      <td>0.0000</td>\n      <td>0.0</td>\n    </tr>\n  </tbody>\n</table>\n</div>"
     },
     "execution_count": 4,
     "metadata": {},
     "output_type": "execute_result"
    }
   ],
   "source": [
    "data.head()"
   ],
   "metadata": {
    "collapsed": false,
    "pycharm": {
     "name": "#%%\n"
    }
   }
  }
 ],
 "metadata": {
  "kernelspec": {
   "display_name": "Python 3",
   "language": "python",
   "name": "python3"
  },
  "language_info": {
   "codemirror_mode": {
    "name": "ipython",
    "version": 2
   },
   "file_extension": ".py",
   "mimetype": "text/x-python",
   "name": "python",
   "nbconvert_exporter": "python",
   "pygments_lexer": "ipython2",
   "version": "2.7.6"
  }
 },
 "nbformat": 4,
 "nbformat_minor": 0
}